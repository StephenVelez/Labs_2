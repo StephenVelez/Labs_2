{
 "cells": [
  {
   "cell_type": "code",
   "execution_count": 1,
   "metadata": {
    "collapsed": true
   },
   "outputs": [],
   "source": [
    "%matplotlib inline"
   ]
  },
  {
   "cell_type": "markdown",
   "metadata": {},
   "source": [
    "# Modeling Static Friction"
   ]
  },
  {
   "cell_type": "markdown",
   "metadata": {},
   "source": [
    "### Paul Nator and Hussain Hassan"
   ]
  },
  {
   "cell_type": "markdown",
   "metadata": {},
   "source": [
    "## Introduction:"
   ]
  },
  {
   "cell_type": "markdown",
   "metadata": {},
   "source": [
    "In this lab, we are comparing the static friction of the box with and without applied weight to it on a flat surface, and also on an incline or a slope."
   ]
  },
  {
   "cell_type": "markdown",
   "metadata": {},
   "source": [
    "## Procedure:"
   ]
  },
  {
   "cell_type": "markdown",
   "metadata": {},
   "source": [
    "Place an object on a flat surface. Using a spring scale attached to the object, pull along the surface to determine how much force is required to move. Afterwards, apply additional masses, increasing the weight and determine the max amount of force of static friction. Then you use the same flat surface, and use it as a ramp. Place the box on the ramp and using the spring scale, pull along the surface to determine the new net force required to move it. Afterwards, apply additional masses in the box, to increase the weight and figure out the new net force."
   ]
  },
  {
   "cell_type": "markdown",
   "metadata": {
    "collapsed": true
   },
   "source": [
    "### Data & Analysis"
   ]
  },
  {
   "cell_type": "markdown",
   "metadata": {},
   "source": [
   "| m(g) | x(N) |y(N)|\n",
    "|------|------|------|\n",
    "|0| 0.7| 1.25|\n",
    "|100| 0.95| 1.8|\n",
    "|200| 1.4| 2.45|\n",
    "|300| 1.8| 3|\n",
    "|400| 2.25| 3.9|\n",
    "|500| 2.45| 4.4|"
   ]
  },
  {
   "cell_type": "markdown",
   "metadata": {},
   "source": [
    "### Inclined Surface on Ramp:"
   ]
  },
  {
   "cell_type": "markdown",
   "metadata": {},
   "source": [
   "| m(g) | x(N) |\n",
    "|------|------|\n",
    "|0| 0.7|\n",
    "|100| 0.95|\n",
    "|200| 1.4|\n",
    "|300| 1.8|\n",
    "|400| 2.25|\n",
    "|500| 2.45|"
   ]
  },
  {
   "cell_type": "code",
   "execution_count": 21,
   "metadata": {
    "collapsed": false,
    "scrolled": true
   },
   "outputs": [
    {
     "name": "stdout",
     "output_type": "stream",
     "text": [
      "0.0037285714264 0.659523809523\n",
      "0.00441971428354 1.18557142857\n"
     ]
    },
    {
     "data": {
      "image/png": "iVBORw0KGgoAAAANSUhEUgAAAYcAAAEZCAYAAAB8culNAAAABHNCSVQICAgIfAhkiAAAAAlwSFlz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\ndO67LeA0UQAAAABJRU5ErkJggg==\n",
      "text/plain": [
<<<<<<< HEAD
       "<matplotlib.figure.Figure at 0x7f3bf28>"
=======
       "<matplotlib.figure.Figure at 0x80fcc18>"
>>>>>>> origin/master
      ]
     },
     "metadata": {},
     "output_type": "display_data"
    }
   ],
   "source": [
    "import matplotlib.pyplot as plt\n",
    "import numpy as np\n",
    "from scipy.optimize import curve_fit\n",
    "x = [0,100,200,300,400,500]\n",
    "y = [0.7,0.95,1.4,1.8,2.25,2.45]\n",
    "w = [1.25,1.596, 2.042, 2.389, 3.085, 3.381]\n",
    "def line(x, a, b):\n",
    "    return(a*x + b)\n",
    "a,b = curve_fit(line, x, y,)[0]\n",
    "c,d = curve_fit(line, x, w,)[0]\n",
    "print(a, b)\n",
    "print(c, d)\n",
    "plt.plot(x, y, 'ko', label = \"Flat Surface, 0°\")\n",
    "plt.plot(x, w, 'ro', label = \"Incline, 12°\")\n",
    "plt.xlabel('Mass(g)')\n",
    "plt.ylabel('Net Force(N)')\n",
    "plt.title('Static Friction Model')\n",
    "xx = np.linspace(0, 600, 5.0)\n",
    "plt.plot (xx,line(xx,a, b))\n",
    "plt.plot (xx,line(xx,c, d))\n",
    "plt.legend (loc = 'upper left')\n",
    "plt.show()"
   ]
  },
  {
   "cell_type": "markdown",
   "metadata": {},
   "source": [
<<<<<<< HEAD
    "## Results:"
=======
    "### Incline Table:"
   ]
  },
  {
   "cell_type": "markdown",
   "metadata": {},
   "source": [
    "| m(g) | y(N) |\n",
    "|------|------|\n",
    "|0| 1.25|\n",
    "|100| 1.8|\n",
    "|200| 2.45|\n",
    "|300| 3|\n",
    "|400| 3.9|\n",
    "|500| 4.4|"
   ]
  },
  {
   "cell_type": "markdown",
   "metadata": {},
   "source": [
    "### Results"
>>>>>>> origin/master
   ]
  },
  {
   "cell_type": "markdown",
   "metadata": {},
   "source": [
    "After we conducted this lab, our linear function that we obtained for our static friction model on a flat surface was $$N=0.00372g+0.6595$$\n",
    "\n",
<<<<<<< HEAD
    "However, for our static friction model on an incline or slope, it was slightly different. It was also a linear funtion but the $a$ and $b$ value increased $$N=0.00441g+1.1855$$"
=======
    "However, for our static friction model on an incline or slope, it was slightly different. It was also a linear funtion but the $a$ and $b$ value increased $$N=0.00645g+1.1857$$"
>>>>>>> origin/master
   ]
  },
  {
   "cell_type": "markdown",
   "metadata": {},
   "source": [
<<<<<<< HEAD
    "## Conclusion:"
=======
    "### Conclusion"
>>>>>>> origin/master
   ]
  },
  {
   "cell_type": "markdown",
   "metadata": {},
   "source": [
<<<<<<< HEAD
    "Our conclusion for this lab is that the more mass the object has, the more force is required to move the object. This means that there is more static friction relative to the object's weight. We also concluded that the increase on the incline increased the amount of force required to move it as well."
=======
    "Our conclusion for this lab is that the more mass the object has, the more force is required to move the object. This means that there is more static friction relative to the object's weight. We also concluded that the increase in incline also increase the amount of force required to move it as well"
>>>>>>> origin/master
   ]
  }
 ],
 "metadata": {
  "kernelspec": {
   "display_name": "Python 3",
   "language": "python",
   "name": "python3"
  },
  "language_info": {
   "codemirror_mode": {
    "name": "ipython",
    "version": 3
   },
   "file_extension": ".py",
   "mimetype": "text/x-python",
   "name": "python",
   "nbconvert_exporter": "python",
   "pygments_lexer": "ipython3",
   "version": "3.4.4"
  }
 },
 "nbformat": 4,
 "nbformat_minor": 0
}
