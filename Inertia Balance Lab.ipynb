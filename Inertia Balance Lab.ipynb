{
 "cells": [
  {
   "cell_type": "markdown",
   "metadata": {},
   "source": [
    "## Oscillation of Intertia Balance and How Weight Affects It"
   ]
  },
  {
   "cell_type": "markdown",
   "metadata": {},
   "source": [
    "### Hussain Hassan, Paul Nator, Esteven Velazquez"
   ]
  },
  {
   "cell_type": "markdown",
   "metadata": {},
   "source": [
    "## Introduction"
   ]
  },
  {
   "cell_type": "code",
   "execution_count": null,
   "metadata": {
    "collapsed": true
   },
   "outputs": [],
   "source": []
  },
  {
   "cell_type": "markdown",
   "metadata": {},
   "source": [
    "## Procedure"
   ]
  },
  {
   "cell_type": "markdown",
   "metadata": {},
   "source": [
    "| Oscillation  000 g | Time | Time In between Oscillation | Oscillations 100 g | Time | Time In Between Oscillations | Oscillations 200 g | Time | Time In between Oscillation |\n",
    "|:---------------:|:----:|:---------------------------:|:------------------:|:----:|:----------------------------:|:------------------:|:----:|:---------------------------:|\n",
    "| 1 | 0 | - | 1 | 0 | - | 1 | 0 | - |\n",
    "| 2 | .28 | .28 | 2 | .31 | .31 | 2 | .31 | .31 |\n",
    "| 3 | .5 | .22 | 3 | .60 | .29 | 3 | .60 | .30 |\n",
    "| 4 | .73 | .23 | 4 | .90 | .30 | 4 | .90 | .30 |\n",
    "| 5 | 1.01 | .28 | 5 | 1.23 | .33 | 5 | 1.24 | .34 |\n",
    "| 6 | 1.25 | .24 | 6 | 1.52 | .29 | 6 | 1.52 | .28 |\n",
    "| 7 | 1.47 | .22 | 7 | 1.83 | .31 | 7 | 1.83 | .31 |\n",
    "| 8 | 1.69 | .29 | 8 | 2.13 | .30 | 8 | 2.14 | .31 |\n",
    "| 9 | 1.98 | .25 | 9 | 2.44 | .31 | 9 | 2.43 | .29 |\n",
    "| 10 | 2.23 | .25 | 10 | 2.77 | .33 | 10 | 2.76 | .33 |\n",
    "\n",
    "| Oscillation 300 g | Time | Time In between Oscillation | Oscillations 400 g | Time | Time In Between Oscillations | Oscillations 500 g | Time | Time In between Oscillation |\n",
    "|:-----------------:|:----:|:---------------------------:|:------------------:|:----:|:----------------------------:|:------------------:|:----:|:---------------------------:|\n",
    "| 1 | 0 | - | 1 | 0 | - | 1 | 0 | - |\n",
    "| 2 | .38 | .38 | 2 | .38 | .38 | 2 | .49 | .49 |\n",
    "| 3 | .74 | .36 | 3 | .78 | .40 | 3 | .98 | .49 |\n",
    "| 4 | 1.09 | .35 | 4 | 1.18 | .40 | 4 | 1.45 | .47 |\n",
    "| 5 | 1.45 | .36 | 5 | 1.54 | .36 | 5 | 1.97 | .52 |\n",
    "| 6 | 1.81 | .36 | 6 | 1.98 | .44 | 6 | 2.43 | .46 |\n",
    "| 7 | 2.15 | .34 | 7 | 2.38 | .40 | 7 | 2.89 | .46 |\n",
    "| 8 | 2.52 | .37 | 8 | 2.78 | ,40 | 8 | 3.39 | .50 |\n",
    "| 9 | 2.89 | .37 | 9 | 3.17 | .39 | 9 | 3.85 | .46 |\n",
    "| 10 | 3.25 | .36 | 10 | 3.56 | .39 | 10 | 4.33 | .48 |"
   ]
  },
  {
   "cell_type": "code",
   "execution_count": 2,
   "metadata": {
    "collapsed": false
   },
   "outputs": [
    {
     "name": "stdout",
     "output_type": "stream",
     "text": [
      " \n",
      "0.001466 x + 0.2983\n"
     ]
    },
    {
     "data": {
      "image/png": "[encoded data removed]",
      "text/plain": [
       "<matplotlib.figure.Figure at 0x6befb10>"
      ]
     },
     "metadata": {},
     "output_type": "display_data"
    }
   ],
   "source": [
    "%matplotlib inline\n",
    "\n",
    "import matplotlib.pyplot as plt\n",
    "\n",
    "\n",
    "plt.plot([0,100,200,300,400,500], [0.4422,0.597,0.7355], 'r.')\n",
    "plt.ylabel('Average Oscillation Time ')\n",
    "plt.xlabel('Weight (g)')\n",
    "plt.title('Oscillation Time in Relation to Weight')\n",
    "plt.axis([50, 350, 0.2, 1])\n",
    "\n",
    "import numpy as np\n",
    "import matplotlib.pyplot as plt\n",
    "\n",
    "x = [100,200,300]\n",
    "y = [0.4422,0.597,0.7355]\n",
    "\n",
    "fit = np.polyfit(x,y,1)\n",
    "fit_fn = np.poly1d(fit) \n",
    "\n",
    "plt.plot(x,y, 'bo', x, fit_fn(x), '--k')\n",
    "plt.xlim(95, 305)\n",
    "plt.ylim(.4, .8)\n",
    "\n",
    "print(fit_fn)\n"
   ]
  },
  {
   "cell_type": "markdown",
   "metadata": {},
   "source": [
    "## Analysis"
   ]
  },
  {
   "cell_type": "code",
   "execution_count": null,
   "metadata": {
    "collapsed": true
   },
   "outputs": [],
   "source": []
  }
 ],
 "metadata": {
  "kernelspec": {
   "display_name": "Python 3",
   "language": "python",
   "name": "python3"
  },
  "language_info": {
   "codemirror_mode": {
    "name": "ipython",
    "version": 3
   },
   "file_extension": ".py",
   "mimetype": "text/x-python",
   "name": "python",
   "nbconvert_exporter": "python",
   "pygments_lexer": "ipython3",
   "version": "3.5.2"
  }
 },
 "nbformat": 4,
 "nbformat_minor": 1
}
