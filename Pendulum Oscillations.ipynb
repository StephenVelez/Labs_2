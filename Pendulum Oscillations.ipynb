{
 "cells": [
  {
   "cell_type": "markdown",
   "metadata": {},
   "source": [
    "## Oscillation of Pendulum"
   ]
  },
  {
   "cell_type": "markdown",
   "metadata": {},
   "source": [
    "Esteven Velazquez"
   ]
  },
  {
   "cell_type": "markdown",
   "metadata": {},
   "source": [
    "## Introduction"
   ]
  },
  {
   "cell_type": "markdown",
   "metadata": {},
   "source": [
    "For this lab I am going to be constucting a pendulum that is going to have an oscillation time of around one second to closely match the pendulum of a real clock that keeps track of time using precises one second oscillations. The shape, and center of mass of out object can affect the pendulum's moment of intertia. "
   ]
  },
  {
   "cell_type": "markdown",
   "metadata": {},
   "source": [
    "## Procedure"
   ]
  },
  {
   "cell_type": "markdown",
   "metadata": {},
   "source": [
    "I pendulum I constructed was a hollow metal rod that pivoted around a screw. At first the rod would spin too quickly. To make the period of ocsillation go slower I added weigts to the bottom inside of the metal rod to increase the mass at the bottom. \n",
    "\n",
    "$$\\tau=I\\alpha$$\n",
    "\n",
    "By placing more weight away from the axis of rotation it increases the moment of intertia or I, which made $a$, the angular acceleration, decrease. By adding weight I was able to get to be close to 10 oscillations in an interval of 10 seconds.  \n",
    "\n"
   ]
  },
  {
   "cell_type": "markdown",
   "metadata": {},
   "source": [
    "## Data & Analysis"
   ]
  },
  {
   "cell_type": "markdown",
   "metadata": {},
   "source": [
    "| Trial    | Time |\n",
    "|----------|------|\n",
    "| 1        | 9.56 |\n",
    "| 2        | 9.78 |\n",
    "| 3        | 9.71 |\n",
    "| In Class | 9.6  |\n",
    "\n",
    "I collected data at home over three trials after making my adjustments to the weight. Human error can cause variation in the measured time. "
   ]
  },
  {
   "cell_type": "markdown",
   "metadata": {},
   "source": [
    "## Results"
   ]
  },
  {
   "cell_type": "markdown",
   "metadata": {},
   "source": [
    "Before adding the weight, the rod would compplete 10 oscillations in around 6.7 seconds on average. By adding more more weight to the bottom of the hollow rod the angular acceleration increased. This caused the oscillation periods to increase.\n",
    "\n",
    "I was not able to get the pendulum to do 10 oscillations in 10 seconds, so to improve upon it in the future I would have tried to find an accurate mass that would increase the moment of intertia. I could also try to attach things to the bottom to try to change it's center of mass in order increase the period length. "
   ]
  },
  {
   "cell_type": "markdown",
   "metadata": {},
   "source": [
    "## Conclusion"
   ]
  },
  {
   "cell_type": "markdown",
   "metadata": {},
   "source": [
    "The pendulum was able to closely approach an oscillation time of one second because of the increase in the mass. In this case the mass was distrubuted mostly at the bottom. Weight, and center of mass can affect the movement of a pendulum. This demonstration showed how changing the momenet of intertia was able to obtain a lower angular momentum. "
   ]
  },
  {
   "cell_type": "code",
   "execution_count": null,
   "metadata": {
    "collapsed": true
   },
   "outputs": [],
   "source": []
  }
 ],
 "metadata": {
  "kernelspec": {
   "display_name": "Python 3",
   "language": "python",
   "name": "python3"
  },
  "language_info": {
   "codemirror_mode": {
    "name": "ipython",
    "version": 3
   },
   "file_extension": ".py",
   "mimetype": "text/x-python",
   "name": "python",
   "nbconvert_exporter": "python",
   "pygments_lexer": "ipython3",
   "version": "3.5.2"
  }
 },
 "nbformat": 4,
 "nbformat_minor": 1
}
