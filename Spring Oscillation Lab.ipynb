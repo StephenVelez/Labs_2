{
 "cells": [
  {
   "cell_type": "code",
   "execution_count": null,
   "metadata": {
    "collapsed": true
   },
   "outputs": [],
   "source": [
    "%matplotlib inline"
   ]
  },
  {
   "cell_type": "markdown",
   "metadata": {},
   "source": [
    "# Spring Oscillation Relationship"
   ]
  },
  {
   "cell_type": "markdown",
   "metadata": {},
   "source": [
    "### Hussain Hassan, Paul Nator, Esteven Velazquez"
   ]
  },
  {
   "cell_type": "markdown",
   "metadata": {},
   "source": [
    "## Introduction"
   ]
  },
  {
   "cell_type": "markdown",
   "metadata": {
    "collapsed": true
   },
   "source": [
    "Hooke's law states that l"
   ]
  },
  {
   "cell_type": "markdown",
   "metadata": {},
   "source": [
    "## Procedure"
   ]
  },
  {
   "cell_type": "markdown",
   "metadata": {
    "collapsed": true
   },
   "source": [
    "For this lab, we used a spring apparatus and masses of 100g each. We applied each weight in 100g increments up to 300g. Afterwards the spring apparatus was pulled down so that the weight and spring would oscillate. The amount of time in between each oscillation was recorded in slow motion and then measured."
   ]
  },
  {
   "cell_type": "markdown",
   "metadata": {},
   "source": [
    "#### <center>100 Grams grams</center>\n",
    "| Oscillations \t| Time \t| Time In between Oscillation \t| \n",
    "|:------------:\t|:----:\t|:---------------------------:\t| \n",
    "|       1      \t|   0  \t|              -              \t| \n",
    "|       2      \t|  .41 \t|             .41             \t| \n",
    "|       3      \t|  .85 \t|             .44             \t| \n",
    "|       4      \t| 1.29 \t|             .44             \t| \n",
    "|       5      \t|  1.8 \t|             .51             \t| \n",
    "|       6      \t|  2.2 \t|              .4             \t| \n",
    "|       7      \t| 2.61 \t|             .41             \t| \n",
    "|       8      \t| 3.09 \t|             .48             \t| \n",
    "|       9      \t| 3.55 \t|             .46             \t| \n",
    "|      10      \t| 3.98 \t|             .43             \t| \n",
    "\n",
    "\n",
    "\n",
    "\n",
    "\n",
    "#### <center>200 Grams grams</center>\n",
    "| Oscillations \t| Time \t| Time In between Oscillation \t|\n",
    "|:------------:\t|:----:\t|:---------------------------:\t|\n",
    "|       1      \t|   0  \t|              -              \t|\n",
    "|       2      \t|  .56 \t|             .56             \t|\n",
    "|       3      \t| 1.18 \t|             .62             \t|\n",
    "|       4      \t| 1.77 \t|             .59             \t|\n",
    "|       5      \t| 2.37 \t|             .60             \t|\n",
    "|       6      \t| 2.97 \t|             .59             \t|\n",
    "|       7      \t| 3.57 \t|             .61             \t|\n",
    "|       8      \t| 4.20 \t|             .63             \t|\n",
    "|       9      \t| 4.76 \t|             .56             \t|\n",
    "|      10      \t| 5.38 \t|             .62             \t|\n",
    "\n",
    "\n",
    "\n",
    "\n",
    "#### <center>300 Grams grams</center>\n",
    "\n",
    "| Oscillations \t| Time \t| Time In between Oscillation \t|\n",
    "|:------------:\t|:----:\t|:---------------------------:\t|\n",
    "|       1      \t|   0  \t|              -              \t|\n",
    "|       2      \t|  .80 \t|              .8             \t|\n",
    "|       3      \t| 1.51 \t|             .72             \t|\n",
    "|       4      \t| 2.23 \t|             .72             \t|\n",
    "|       5      \t| 3.02 \t|             .79             \t|\n",
    "|       6      \t| 3.67 \t|             .65             \t|\n",
    "|       7      \t| 4.40 \t|             .73             \t|\n",
    "|       8      \t| 5.13 \t|             .73             \t|\n",
    "|       9      \t| 5.83 \t|             .70             \t|\n",
    "|      10      \t| 6.62 \t|             .79             \t|\n",
    "\n"
   ]
  },
  {
   "cell_type": "code",
   "execution_count": null,
   "metadata": {
    "collapsed": true
   },
   "outputs": [],
   "source": [
    "import matplotlib.pyplot as plt\n",
    "import numpy as np\n",
    "from scipy.optimize import curve_fit\n",
    "\n",
    "\n",
    "\n",
    "plt.plot([100,200,300,400,500], [0.35,0.70,1.0,1.35,1.70], 'r.')\n",
    "plt.plot([100,200,300,400,500], [0.75,0.95,1.3,1.9,2.2], 'b.')\n",
    "plt.ylabel('Force applied (N) ')\n",
    "plt.xlabel('Mass')\n",
    "plt.title('Maximum Static Friction')\n",
    "plt.axis([0, 500, 0, 2])\n",
    "\n",
    "plt.plot(ForceI, MassI, 'b.')\n",
    "plt.plot(xx, lin_model(xx, c, d,), 'b') \n",
    "plt.ylabel('Force applied (N)')\n",
    "plt.xlabel('Weight (g)')\n",
    "plt.title('Maximum static friction')"
   ]
  },
  {
   "cell_type": "code",
   "execution_count": null,
   "metadata": {
    "collapsed": true
   },
   "outputs": [],
   "source": [
    "## Analysis"
   ]
  },
  {
   "cell_type": "code",
   "execution_count": null,
   "metadata": {
    "collapsed": true
   },
   "outputs": [],
   "source": []
  }
 ],
 "metadata": {
  "kernelspec": {
   "display_name": "Python 3",
   "language": "python",
   "name": "python3"
  },
  "language_info": {
   "codemirror_mode": {
    "name": "ipython",
    "version": 3
   },
   "file_extension": ".py",
   "mimetype": "text/x-python",
   "name": "python",
   "nbconvert_exporter": "python",
   "pygments_lexer": "ipython3",
   "version": "3.5.2"
  }
 },
 "nbformat": 4,
 "nbformat_minor": 0
}
