{
 "cells": [
  {
   "cell_type": "code",
   "execution_count": 2,
   "metadata": {
    "collapsed": true
   },
   "outputs": [],
   "source": [
    "%matplotlib inline"
   ]
  },
  {
   "cell_type": "markdown",
   "metadata": {},
   "source": [
    "# Springs: How do they work?\n",
    "### Hussain Hassan & Paul Nator"
   ]
  },
  {
   "cell_type": "markdown",
   "metadata": {},
   "source": [
    "### Introduction"
   ]
  },
  {
   "cell_type": "markdown",
   "metadata": {},
   "source": [
    "In this investigation, we'll determine how the restoring force of a spring depends on its displacement from equilibrium. "
   ]
  },
  {
   "cell_type": "markdown",
   "metadata": {},
   "source": [
    "### Procedure"
   ]
  },
  {
   "cell_type": "markdown",
   "metadata": {},
   "source": [
    "   In this experiment, we measured the displacement of the spring in relation to the mass applied to it. We used a spring weight to determine how far a certain weight traveled from one exact point which was 0. The given weights were  50g, 100g, 150g, 200g, and a 250g. We placed the weight, observed how far it traveled, and then tried to stabilize the spring as much as we can so we would be able to obtain accurate and precise measurements. After we found how much each weight traveled on the spring, we recorded our data on a Data & Analysis table and then placed a line of best fit onto the graph."
   ]
  },
  {
   "cell_type": "markdown",
   "metadata": {},
   "source": [
    "### Data & Analysis"
   ]
  },
  {
   "cell_type": "markdown",
   "metadata": {},
   "source": [
    "| m (g) \t| x (cm)\t|\n",
    "|-----\t|---\t|\n",
    "| 50  \t|1.9  \t|\n",
    "| 100 \t|3.75   \t|\n",
    "| 150 \t|5.7   \t|\n",
    "| 200 \t|7.7  \t|\n",
    "| 250 \t|9.7|"
   ]
  },
  {
   "cell_type": "code",
   "execution_count": 15,
   "metadata": {
    "collapsed": false
   },
   "outputs": [
    {
     "name": "stdout",
     "output_type": "stream",
     "text": [
      "0.0390999999979 -0.115000000002\n"
     ]
    },
    {
     "data": {
      "image/png": "[encoded data removed]",
      "text/plain": [
       "<matplotlib.figure.Figure at 0x98bcdd8>"
      ]
     },
     "metadata": {},
     "output_type": "display_data"
    }
   ],
   "source": [
    "import matplotlib.pyplot as plt\n",
    "import numpy as np\n",
    "from scipy.optimize import curve_fit\n",
    "x = [50, 100, 150, 200, 250]\n",
    "y = [1.9, 3.75, 5.7, 7.7, 9.7]\n",
    "def line(x, a, b):\n",
    "    return(a*x + b)\n",
    "a,b = curve_fit(line, x, y)[0]\n",
    "print(a, b)\n",
    "plt.xlabel('Weight(g)')\n",
    "plt.ylabel('Distance(cm)')\n",
    "plt.title('Spring Displacement')\n",
    "plt.plot(x, y, 'ko')\n",
    "xx = np.linspace(0, 300, 15)\n",
    "plt.plot(xx, line(xx, a, b))\n",
    "plt.xlim(0,300)\n",
    "plt.ylim(-1,15)\n",
    "plt.show()"
   ]
  },
  {
   "cell_type": "markdown",
   "metadata": {},
   "source": [
    "### Results"
   ]
  },
  {
   "cell_type": "markdown",
   "metadata": {},
   "source": [
    "After plotting the points, we were able to find an equation for a linear function, $y=0.039x - 0.115$. The $a$ value we gained was rounded to $0.039$ aand our $b$ value was $-0.115$. We then tested our equation with a given displacement, $y$, and we found that it was mostly accurate. The value we received was about 138g, which was somewhat close to the actual weight, 120g."
   ]
  },
  {
   "cell_type": "markdown",
   "metadata": {},
   "source": [
    "### Conclusion"
   ]
  },
  {
   "cell_type": "markdown",
   "metadata": {},
   "source": [
    "We concluded that as the weight applied to the spring increased, the displacement it traveled from its origin to where it rested was increasing as well. The resulted value for $a$ is the constant force of gravity applied to the spring and the value for $b$ is the restoring force of the spring applied to the mass in the opposing direction. We also discovered that even though 0 weight is applied, the $b$ value is still negative. As you can see in the equation $y = 0.039(0) - 0.115$, $y$ would be $-0.115$. The distance should be $0$ because no weight is applied, but we ended up with a negative value which doesn't make sense."
   ]
  }
 ],
 "metadata": {
  "kernelspec": {
   "display_name": "Python 3",
   "language": "python",
   "name": "python3"
  },
  "language_info": {
   "codemirror_mode": {
    "name": "ipython",
    "version": 3
   },
   "file_extension": ".py",
   "mimetype": "text/x-python",
   "name": "python",
   "nbconvert_exporter": "python",
   "pygments_lexer": "ipython3",
   "version": "3.4.4"
  }
 },
 "nbformat": 4,
 "nbformat_minor": 1
}
